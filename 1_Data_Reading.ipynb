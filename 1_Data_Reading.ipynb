{
 "cells": [
  {
   "cell_type": "code",
   "execution_count": 1,
   "id": "d3f33c01",
   "metadata": {},
   "outputs": [],
   "source": [
    "import numpy as np\n",
    "import soundfile as sf\n",
    "from sklearn.model_selection import train_test_split\n",
    "from keras.utils import to_categorical\n",
    "\n",
    "import librosa       # For Audio Processing"
   ]
  },
  {
   "cell_type": "markdown",
   "id": "3fcd89dd",
   "metadata": {},
   "source": [
    "### Classes\n",
    "Forward = 1 <br>\n",
    "Back = 2 <br>\n",
    "Left = 3 <br>\n",
    "Right = 4 <br>\n",
    "Stop = 5 <br>"
   ]
  },
  {
   "cell_type": "code",
   "execution_count": 2,
   "id": "0c11c4ec",
   "metadata": {},
   "outputs": [],
   "source": [
    "train_X_forward = []\n",
    "train_Y_forward = []\n",
    "\n",
    "for j in range(1,81):\n",
    "    \n",
    "    file_name = \"forward\" + str(j) + \".wav\"\n",
    "    data, samplerate = sf.read(file_name)\n",
    "    \n",
    "    x = len(data)\n",
    "    p = 25000 - x\n",
    "    for i in range(1, p, 500):\n",
    "        emp_arr = np.zeros(25000)\n",
    "        emp_arr[i:i+x] = data\n",
    "        each_data = emp_arr.tolist()\n",
    "        train_X_forward.append(each_data)\n",
    "        train_Y_forward.append(1)\n",
    "        \n",
    "        #a = \"forward__\"+str(j) +\"_\"+str(i)+\".wav\"\n",
    "        #sf.write(a, emp_arr, samplerate)\n",
    "train_X_F = np.array(train_X_forward)\n",
    "#np.random.shuffle(train_X_F)"
   ]
  },
  {
   "cell_type": "code",
   "execution_count": 3,
   "id": "e26e8233",
   "metadata": {},
   "outputs": [],
   "source": [
    "train_X_back = []\n",
    "train_Y_back = []\n",
    "\n",
    "for j in range(1,81):\n",
    "    \n",
    "    file_name = \"back\" + str(j) + \".wav\"\n",
    "    data, samplerate = sf.read(file_name)\n",
    "    \n",
    "    x = len(data)\n",
    "    p = 25000 - x\n",
    "    for i in range(1, p, 500):\n",
    "        emp_arr = np.zeros(25000)\n",
    "        emp_arr[i:i+x] = data\n",
    "        each_data = emp_arr.tolist()\n",
    "        train_X_back.append(each_data)\n",
    "        train_Y_back.append(2)\n",
    "        \n",
    "        #a = \"back__\"+str(j) +\"_\"+str(i)+\".wav\"\n",
    "        #sf.write(a, emp_arr, samplerate)\n",
    "train_X_B = np.array(train_X_back)\n",
    "#np.random.shuffle(train_X_B)"
   ]
  },
  {
   "cell_type": "code",
   "execution_count": 4,
   "id": "c21754c3",
   "metadata": {},
   "outputs": [],
   "source": [
    "train_X_left = []\n",
    "train_Y_left = []\n",
    "\n",
    "for j in range(1,81):\n",
    "    \n",
    "    file_name = \"left\" + str(j) + \".wav\"\n",
    "    data, samplerate = sf.read(file_name)\n",
    "    \n",
    "    x = len(data)\n",
    "    p = 25000 - x\n",
    "    for i in range(1, p, 500):\n",
    "        emp_arr = np.zeros(25000)\n",
    "        emp_arr[i:i+x] = data\n",
    "        each_data = emp_arr.tolist()\n",
    "        train_X_left.append(each_data)\n",
    "        train_Y_left.append(3)\n",
    "        \n",
    "        #a = \"left__\"+str(j) +\"_\"+str(i)+\".wav\"\n",
    "        #sf.write(a, emp_arr, samplerate)\n",
    "train_X_L = np.array(train_X_left)\n",
    "#np.random.shuffle(train_X_L)"
   ]
  },
  {
   "cell_type": "code",
   "execution_count": 5,
   "id": "799ef0e8",
   "metadata": {},
   "outputs": [],
   "source": [
    "train_X_right = []\n",
    "train_Y_right = []\n",
    "\n",
    "for j in range(1,81):\n",
    "    \n",
    "    file_name = \"right\" + str(j) + \".wav\"\n",
    "    data, samplerate = sf.read(file_name)\n",
    "    \n",
    "    x = len(data)\n",
    "    p = 25000 - x\n",
    "    for i in range(1, p, 500):\n",
    "        emp_arr = np.zeros(25000)\n",
    "        emp_arr[i:i+x] = data\n",
    "        each_data = emp_arr.tolist()\n",
    "        train_X_right.append(each_data)\n",
    "        train_Y_right.append(4)\n",
    "        \n",
    "        #a = \"right__\"+str(j) +\"_\"+str(i)+\".wav\"\n",
    "        #sf.write(a, emp_arr, samplerate)\n",
    "train_X_R = np.array(train_X_right)\n",
    "#np.random.shuffle(train_X_R)"
   ]
  },
  {
   "cell_type": "code",
   "execution_count": 6,
   "id": "a995922b",
   "metadata": {},
   "outputs": [],
   "source": [
    "train_X_stop = []\n",
    "train_Y_stop = []\n",
    "\n",
    "for j in range(1,81):\n",
    "    \n",
    "    file_name = \"stop\" + str(j) + \".wav\"\n",
    "    data, samplerate = sf.read(file_name)\n",
    "    \n",
    "    x = len(data)\n",
    "    p = 25000 - x\n",
    "    for i in range(1, p, 500):\n",
    "        emp_arr = np.zeros(25000)\n",
    "        emp_arr[i:i+x] = data\n",
    "        each_data = emp_arr.tolist()\n",
    "        train_X_stop.append(each_data)\n",
    "        train_Y_stop.append(5)\n",
    "        \n",
    "        #a = \"stop__\"+str(j) +\"_\"+str(i)+\".wav\"\n",
    "        #sf.write(a, emp_arr, samplerate)\n",
    "train_X_S = np.array(train_X_stop)\n",
    "#np.random.shuffle(train_X_S)"
   ]
  },
  {
   "cell_type": "code",
   "execution_count": 15,
   "id": "8e679e58",
   "metadata": {},
   "outputs": [],
   "source": [
    "dataset_X = np.concatenate((train_X_F,train_X_B,train_X_L,train_X_R,train_X_S), axis = 0)\n",
    "dataset_Y_lab = train_Y_forward + train_Y_back + train_Y_left + train_Y_right + train_Y_stop\n",
    "\n",
    "dataset_Y = to_categorical(dataset_Y_lab)"
   ]
  },
  {
   "cell_type": "code",
   "execution_count": 17,
   "id": "db7f0c12",
   "metadata": {},
   "outputs": [],
   "source": [
    "train_X, test_X, train_Y, test_Y = train_test_split(dataset_X, dataset_Y,random_state = 42, test_size = 0.2)"
   ]
  },
  {
   "cell_type": "code",
   "execution_count": 18,
   "id": "d4c0da5a",
   "metadata": {},
   "outputs": [],
   "source": [
    "#np.save(\"train_X.npy\", train_X)\n",
    "#np.save(\"train_Y.npy\", train_Y)\n",
    "#np.save(\"test_X.npy\", test_X)\n",
    "#np.save(\"test_Y.npy\", test_Y)\n",
    "\n",
    "\n",
    "#train_X = np.load(\"train_X.npy\")\n",
    "#train_Y = np.load(\"train_Y.npy\")\n",
    "#test_X = np.load(\"test_X.npy\")\n",
    "#test_Y = np.load(\"test_Y.npy\")"
   ]
  },
  {
   "cell_type": "code",
   "execution_count": 30,
   "id": "b3e482cf",
   "metadata": {},
   "outputs": [],
   "source": [
    "N = train_X.shape[0]\n",
    "X_train = []\n",
    "\n",
    "for i in range(N):\n",
    "    temp_mel = (librosa.feature.melspectrogram(train_X[i], sr = 8000, n_fft = 1024, n_mels = 39, power = 2)).tolist()\n",
    "    X_train.append(temp_mel)\n",
    "X_train_mel = np.array(X_train)\n",
    "X_train_mel = X_train_mel.reshape(N,39,49,1)"
   ]
  },
  {
   "cell_type": "code",
   "execution_count": 24,
   "id": "212c688a",
   "metadata": {},
   "outputs": [],
   "source": [
    "N = test_X.shape[0]\n",
    "X_test = []\n",
    "\n",
    "for i in range(N):\n",
    "    temp_mel = (librosa.feature.melspectrogram(test_X[i], sr = 8000, n_fft = 1024, n_mels = 39, power = 2)).tolist()\n",
    "    X_test.append(temp_mel)\n",
    "X_test_mel = np.array(X_test)\n",
    "X_test_mel = X_test_mel.reshape(N,39,49,1)"
   ]
  },
  {
   "cell_type": "code",
   "execution_count": 31,
   "id": "121ec89e",
   "metadata": {},
   "outputs": [],
   "source": [
    "np.save(\"train_X_mel.npy\", X_train_mel)\n",
    "np.save(\"test_X_mel.npy\", X_test_mel)"
   ]
  },
  {
   "cell_type": "code",
   "execution_count": 32,
   "id": "f2b9ba88",
   "metadata": {},
   "outputs": [
    {
     "name": "stdout",
     "output_type": "stream",
     "text": [
      "(6072, 39, 49, 1)\n"
     ]
    }
   ],
   "source": [
    "print(X_train_mel.shape)"
   ]
  },
  {
   "cell_type": "code",
   "execution_count": 33,
   "id": "cc590418",
   "metadata": {},
   "outputs": [
    {
     "name": "stdout",
     "output_type": "stream",
     "text": [
      "(1519, 39, 49, 1)\n"
     ]
    }
   ],
   "source": [
    "print(X_test_mel.shape)"
   ]
  },
  {
   "cell_type": "code",
   "execution_count": null,
   "id": "603e475b",
   "metadata": {},
   "outputs": [],
   "source": []
  },
  {
   "cell_type": "code",
   "execution_count": null,
   "id": "d1aed284",
   "metadata": {},
   "outputs": [],
   "source": []
  }
 ],
 "metadata": {
  "kernelspec": {
   "display_name": "Python 3",
   "language": "python",
   "name": "python3"
  },
  "language_info": {
   "codemirror_mode": {
    "name": "ipython",
    "version": 3
   },
   "file_extension": ".py",
   "mimetype": "text/x-python",
   "name": "python",
   "nbconvert_exporter": "python",
   "pygments_lexer": "ipython3",
   "version": "3.8.8"
  }
 },
 "nbformat": 4,
 "nbformat_minor": 5
}
