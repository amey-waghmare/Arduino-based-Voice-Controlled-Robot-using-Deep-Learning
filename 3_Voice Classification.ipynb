{
 "cells": [
  {
   "cell_type": "code",
   "execution_count": 1,
   "id": "4f6e1c13",
   "metadata": {},
   "outputs": [],
   "source": [
    "import numpy as np\n",
    "import soundfile as sf\n",
    "import librosa\n",
    "\n",
    "import pyaudio\n",
    "import wave\n",
    "\n",
    "from tensorflow import keras"
   ]
  },
  {
   "cell_type": "code",
   "execution_count": 2,
   "id": "c705eba9",
   "metadata": {},
   "outputs": [],
   "source": [
    "CHUNK = 1024 \n",
    "FORMAT = pyaudio.paInt16 #paInt8\n",
    "CHANNELS = 1\n",
    "RATE = 8000 #sample rate\n",
    "RECORD_SECONDS = 3\n",
    "WAVE_OUTPUT_FILENAME = \"testab.wav\""
   ]
  },
  {
   "cell_type": "code",
   "execution_count": 3,
   "id": "154d3b6a",
   "metadata": {},
   "outputs": [
    {
     "name": "stdout",
     "output_type": "stream",
     "text": [
      "Model: \"SYS_Model\"\n",
      "_________________________________________________________________\n",
      "Layer (type)                 Output Shape              Param #   \n",
      "=================================================================\n",
      "Input (InputLayer)           [(None, 39, 49, 1)]       0         \n",
      "_________________________________________________________________\n",
      "CONV1 (Conv2D)               (None, 39, 49, 10)        60        \n",
      "_________________________________________________________________\n",
      "BATCH1 (BatchNormalization)  (None, 39, 49, 10)        40        \n",
      "_________________________________________________________________\n",
      "CONV2 (Conv2D)               (None, 39, 49, 1)         51        \n",
      "_________________________________________________________________\n",
      "BATCH2 (BatchNormalization)  (None, 39, 49, 1)         4         \n",
      "_________________________________________________________________\n",
      "dropout (Dropout)            (None, 39, 49, 1)         0         \n",
      "_________________________________________________________________\n",
      "SQZZ (Reshape)               (None, 39, 49)            0         \n",
      "_________________________________________________________________\n",
      "LSTM_SEQ (LSTM)              (None, 39, 64)            29184     \n",
      "_________________________________________________________________\n",
      "dropout_1 (Dropout)          (None, 39, 64)            0         \n",
      "_________________________________________________________________\n",
      "LSTM2 (LSTM)                 (None, 32)                12416     \n",
      "_________________________________________________________________\n",
      "dropout_2 (Dropout)          (None, 32)                0         \n",
      "_________________________________________________________________\n",
      "OUTPUT (Dense)               (None, 5)                 165       \n",
      "=================================================================\n",
      "Total params: 41,920\n",
      "Trainable params: 41,898\n",
      "Non-trainable params: 22\n",
      "_________________________________________________________________\n"
     ]
    }
   ],
   "source": [
    "model = keras.models.load_model(\"voice_model_1.h5\")\n",
    "model.summary()"
   ]
  },
  {
   "cell_type": "code",
   "execution_count": 50,
   "id": "452a3a81",
   "metadata": {},
   "outputs": [
    {
     "name": "stdout",
     "output_type": "stream",
     "text": [
      "* recording\n",
      "* done recording\n",
      "Right\n"
     ]
    }
   ],
   "source": [
    "p = pyaudio.PyAudio()\n",
    "\n",
    "stream = p.open(format=FORMAT,channels=CHANNELS,rate=RATE,input=True,frames_per_buffer=CHUNK) #buffer\n",
    "print(\"* recording\")\n",
    "frames = []\n",
    "for i in range(0, int(RATE / CHUNK * RECORD_SECONDS)):\n",
    "    data = stream.read(CHUNK)\n",
    "    frames.append(data) # 2 bytes(16 bits) per channel\n",
    "print(\"* done recording\")\n",
    "stream.stop_stream()\n",
    "stream.close()\n",
    "p.terminate()\n",
    "wf = wave.open(WAVE_OUTPUT_FILENAME, 'wb')\n",
    "wf.setnchannels(CHANNELS)\n",
    "wf.setsampwidth(p.get_sample_size(FORMAT))\n",
    "wf.setframerate(RATE)\n",
    "wf.writeframes(b''.join(frames))\n",
    "wf.close()\n",
    "\n",
    "\n",
    "data, samplerate = sf.read(WAVE_OUTPUT_FILENAME)\n",
    "le = len(data)\n",
    "\n",
    "new_data = np.zeros(25000)\n",
    "new_data[100:100+le] = data\n",
    "\n",
    "temp_mel = librosa.feature.melspectrogram(new_data, sr = 8000, n_fft = 1024, n_mels = 39, power = 2).reshape(1,39,49,1)\n",
    "\n",
    "\n",
    "prediction = model.predict(temp_mel)\n",
    "\n",
    "arg_val = np.argmax(prediction)\n",
    "\n",
    "if (arg_val == 0):\n",
    "    print(\"Forward\")\n",
    "elif (arg_val == 1):\n",
    "    print(\"Back\")\n",
    "elif (arg_val == 2):\n",
    "    print(\"Left\")\n",
    "elif (arg_val == 3):\n",
    "    print(\"Right\")\n",
    "elif (arg_val == 4):\n",
    "    print(\"Stop\")"
   ]
  },
  {
   "cell_type": "code",
   "execution_count": 5,
   "id": "4707edb9",
   "metadata": {},
   "outputs": [
    {
     "data": {
      "text/plain": [
       "(1, 49, 39, 1)"
      ]
     },
     "execution_count": 5,
     "metadata": {},
     "output_type": "execute_result"
    }
   ],
   "source": [
    "temp_mel.shape"
   ]
  },
  {
   "cell_type": "code",
   "execution_count": 31,
   "id": "c4234a8d",
   "metadata": {},
   "outputs": [
    {
     "data": {
      "text/plain": [
       "0"
      ]
     },
     "execution_count": 31,
     "metadata": {},
     "output_type": "execute_result"
    }
   ],
   "source": [
    "np.argmax(prediction)"
   ]
  },
  {
   "cell_type": "code",
   "execution_count": null,
   "id": "3876711b",
   "metadata": {},
   "outputs": [],
   "source": []
  },
  {
   "cell_type": "code",
   "execution_count": null,
   "id": "1cc86ab0",
   "metadata": {},
   "outputs": [],
   "source": []
  },
  {
   "cell_type": "code",
   "execution_count": null,
   "id": "c8dad2cc",
   "metadata": {},
   "outputs": [],
   "source": []
  },
  {
   "cell_type": "code",
   "execution_count": null,
   "id": "79228af6",
   "metadata": {},
   "outputs": [],
   "source": []
  },
  {
   "cell_type": "code",
   "execution_count": null,
   "id": "1b36b09e",
   "metadata": {},
   "outputs": [],
   "source": []
  }
 ],
 "metadata": {
  "kernelspec": {
   "display_name": "Python 3",
   "language": "python",
   "name": "python3"
  },
  "language_info": {
   "codemirror_mode": {
    "name": "ipython",
    "version": 3
   },
   "file_extension": ".py",
   "mimetype": "text/x-python",
   "name": "python",
   "nbconvert_exporter": "python",
   "pygments_lexer": "ipython3",
   "version": "3.8.8"
  }
 },
 "nbformat": 4,
 "nbformat_minor": 5
}
